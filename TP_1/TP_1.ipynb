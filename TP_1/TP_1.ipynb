{
 "cells": [
  {
   "cell_type": "markdown",
   "metadata": {},
   "source": [
    "# TP 1 - Reinforcement Learning (November 16rd)"
   ]
  },
  {
   "cell_type": "markdown",
   "metadata": {},
   "source": [
    "Name: Diego Andres Torres Guarin"
   ]
  },
  {
   "cell_type": "markdown",
   "metadata": {},
   "source": [
    "### Instructions\n",
    "This assignement will be a discovery of a library for working with RL problems,   an implementation of Policy Iteration and Value Iteration algorithm and the first implementation of a sampling-based algorithm.\n",
    "\n",
    "We used the Cliff Walking Environment (also from Sutton's book).\n",
    "\n",
    "    Adapted from Example 6.6 (page 132) from Reinforcement Learning: An Introduction\n",
    "    by Sutton and Barto:\n",
    "    The board is a 4x12 matrix, with (using Numpy matrix indexing):\n",
    "        [3, 0] as the start at bottom-left\n",
    "        [3, 11] as the goal at bottom-right\n",
    "        [3, 1..10] as the cliff at bottom-center\n",
    "    Each time step incurs -1 reward, and stepping into the cliff incurs -100 reward\n",
    "    and a reset to the start. An episode terminates when the agent reaches the goal.\n",
    "\n",
    "![ChessUrl](https://gymnasium.farama.org/_images/cliff_walking.gif \"Cliff Walking\")\n",
    "\n",
    "- Save this notebook in a ```.ipynb``` format and send it to cyriaque.rousselot(at)inria(dot)fr with the name ```TP1_NAME_SURNAME``` before November 23th.\n",
    "- Make sure to comment your code and explain your decisions clearly. Write explanations in text if necessary \n",
    "- Answers must be short and precise and don't require thousands lines of code. \n",
    "- Generally, the code to complete is indicated with the comment ```#TO IMPLEMENT```\n",
    "Good luck !\n"
   ]
  },
  {
   "cell_type": "markdown",
   "metadata": {},
   "source": [
    "## A gentle start with Gymnasium"
   ]
  },
  {
   "cell_type": "markdown",
   "metadata": {},
   "source": [
    "Have a look at the documentation of gymnasium https://gymnasium.farama.org/content/basic_usage/, of environments https://gymnasium.farama.org/api/env/ and of the Cliff Walking Environment https://gymnasium.farama.org/environments/toy_text/cliff_walking/. \n"
   ]
  },
  {
   "cell_type": "markdown",
   "metadata": {},
   "source": [
    "> You can use multiple render_mode in a gym environment class. For simplicity, I will ask you to render the environment in ansi mode to display it in the notebook."
   ]
  },
  {
   "cell_type": "markdown",
   "metadata": {},
   "source": [
    "**Q.1 Display the Action Space / State space of the CliffWalking environment**"
   ]
  },
  {
   "cell_type": "code",
   "execution_count": 1,
   "metadata": {},
   "outputs": [
    {
     "name": "stdout",
     "output_type": "stream",
     "text": [
      "time: 360 µs (started: 2023-11-16 10:28:09 +01:00)\n"
     ]
    }
   ],
   "source": [
    "try:\n",
    "    %load_ext autotime\n",
    "except:\n",
    "    !pip install ipython-autotime\n",
    "    %load_ext autotime"
   ]
  },
  {
   "cell_type": "code",
   "execution_count": 2,
   "metadata": {},
   "outputs": [
    {
     "name": "stdout",
     "output_type": "stream",
     "text": [
      "==========Load the environment==========\n",
      "==========Visualize the environment==========\n",
      "o  o  o  o  o  o  o  o  o  o  o  o\n",
      "o  o  o  o  o  o  o  o  o  o  o  o\n",
      "o  o  o  o  o  o  o  o  o  o  o  o\n",
      "x  C  C  C  C  C  C  C  C  C  C  T\n",
      "\n",
      "\n",
      "==========Action Space==========\n",
      "Discrete(4)\n",
      "There are 4 actions: 0 = Up, 1 = Right, 2 = Down, 3 = Left\n",
      "==========State Space==========\n",
      "Discrete(48)\n",
      "There are 48 states: 0 to 47. \n",
      "The state 36 is the starting point, and the state 47 is the goal. \n",
      "The states 37 to 46 are the cliff.\n",
      "time: 470 ms (started: 2023-11-16 10:28:10 +01:00)\n"
     ]
    }
   ],
   "source": [
    "import numpy as np\n",
    "import gymnasium as gym\n",
    "from matplotlib import pyplot as plt\n",
    "import time \n",
    "\n",
    "print(\"=\"*10 + \"Load the environment\"+\"=\"*10)\n",
    "env = gym.make('CliffWalking-v0', render_mode=\"ansi\") # Initialize the environment object\n",
    "observation, info = env.reset(seed=42) # Reset the environment\n",
    "\n",
    "print(\"=\"*10 + \"Visualize the environment\"+\"=\"*10)\n",
    "print(env.render()) # The Cliff Walking Environment in ANSI \n",
    "\n",
    "## Action Space\n",
    "nb_actions = 4\n",
    "print(\"=\"*10 + \"Action Space\"+\"=\"*10)\n",
    "print(env.action_space)\n",
    "print('There are 4 actions: 0 = Up, 1 = Right, 2 = Down, 3 = Left')\n",
    "\n",
    "## State space\n",
    "nb_states = 48\n",
    "print(\"=\"*10 + \"State Space\"+\"=\"*10)\n",
    "print(env.observation_space)\n",
    "print(\"\"\"There are 48 states: 0 to 47. \n",
    "The state 36 is the starting point, and the state 47 is the goal. \n",
    "The states 37 to 46 are the cliff.\"\"\")\n",
    "env.close()"
   ]
  },
  {
   "cell_type": "markdown",
   "metadata": {},
   "source": [
    "### Use of a random policy"
   ]
  },
  {
   "cell_type": "markdown",
   "metadata": {},
   "source": [
    "**Q.2 Implement a policy that chose an action randomly from the action space and a policy that chose always the action \"go right\"**"
   ]
  },
  {
   "cell_type": "code",
   "execution_count": 3,
   "metadata": {},
   "outputs": [
    {
     "name": "stdout",
     "output_type": "stream",
     "text": [
      "time: 338 µs (started: 2023-11-16 10:28:10 +01:00)\n"
     ]
    }
   ],
   "source": [
    "def RandomPolicy(state, action_space):\n",
    "    return np.random.randint(action_space.n)\n",
    "\n",
    "\n",
    "def GoRightPolicy(state, action_space):\n",
    "    return 1"
   ]
  },
  {
   "cell_type": "markdown",
   "metadata": {},
   "source": [
    "**Q.3 What is the meaning of the ouptut of the method ```step()``` of the environment class ?**"
   ]
  },
  {
   "cell_type": "code",
   "execution_count": 4,
   "metadata": {},
   "outputs": [
    {
     "name": "stdout",
     "output_type": "stream",
     "text": [
      "(36, -1, False, False, {'prob': 1.0})\n",
      "time: 3.93 ms (started: 2023-11-16 10:28:11 +01:00)\n"
     ]
    }
   ],
   "source": [
    "env = gym.make('CliffWalking-v0',render_mode=\"ansi\")\n",
    "env.reset()\n",
    "print(env.step(2))\n",
    "env.close()"
   ]
  },
  {
   "cell_type": "markdown",
   "metadata": {},
   "source": [
    "**Answers**\n",
    "\n",
    "1. The first entry in the output is the new state. In this particular case we tried to move down from the initial state, which is not possible because there is no available square below this position. Hence the returned position is the same. \n",
    "2. The second entry is the reward. As we didn't get to the goal but a timestep passed, we get the negative reward of -1.\n",
    "3. The third entry is the flag to indicate whether a terminal state has been reached. \n",
    "4. The fourth entry tells you if the episode has been truncated because it reached the maximum length.\n",
    "5. The dictionary generally contains extra information that might be relevant. In this case it indicates that the probability of going to the new state is 1, as this is a deterministic environment."
   ]
  },
  {
   "cell_type": "markdown",
   "metadata": {},
   "source": [
    "**Q.4 Build a function ```transition(env,s1,Pi)``` that take in entry the environment, a state and a ```policy(state,action_space)``` function. It has to return the immediate reward, the next state and a boolean that indicates if the next step is a terminal state.**"
   ]
  },
  {
   "cell_type": "code",
   "execution_count": 5,
   "metadata": {},
   "outputs": [
    {
     "name": "stdout",
     "output_type": "stream",
     "text": [
      "(-1, 36, False)\n",
      "time: 4.51 ms (started: 2023-11-16 10:28:11 +01:00)\n"
     ]
    }
   ],
   "source": [
    "def transition(env, s1, Pi):\n",
    "    action = Pi(s1, env.action_space)\n",
    "    s2, reward, done, _, _ = env.step(action)\n",
    "    return reward, s2, done\n",
    "\n",
    "\n",
    "env = gym.make('CliffWalking-v0', render_mode='ansi')\n",
    "s0 = env.reset()[0]\n",
    "print(transition(env, s0, RandomPolicy))\n",
    "env.close()"
   ]
  },
  {
   "cell_type": "markdown",
   "metadata": {},
   "source": [
    "**Q.5 Build a function ```SimulateTrajectory(T,policy)``` that simulate the behavior of an agent that start at an initial state, chose its next states using ```policy(state,action_space)``` function and keep trace of the state visited and the rewards obtained. It stops after ```T``` steps or if it encounters a terminal state. Use this function to plot the Cumulated Discounted Reward for multiple initialisations**\n",
    ">(Hint: you can use the function defined in question Q.4)"
   ]
  },
  {
   "cell_type": "code",
   "execution_count": 38,
   "metadata": {},
   "outputs": [
    {
     "data": {
      "image/png": "[encoded data removed]",
      "text/plain": [
       "<Figure size 640x480 with 1 Axes>"
      ]
     },
     "metadata": {},
     "output_type": "display_data"
    },
    {
     "name": "stdout",
     "output_type": "stream",
     "text": [
      "time: 191 ms (started: 2023-11-16 11:09:10 +01:00)\n"
     ]
    }
   ],
   "source": [
    "def SimulateTrajectory(T, policy):\n",
    "    \"\"\"return a vector of T successive states and a vector of T successive immediate rewards\"\"\"\n",
    "    s , _ = env.reset()\n",
    "\n",
    "    states = [s]\n",
    "    rewards = []\n",
    "    for t in range(T):\n",
    "        r, s, done = transition(env, s, policy)\n",
    "        states.append(s)\n",
    "        rewards.append(r)\n",
    "        if done:\n",
    "            break\n",
    "\n",
    "    return states, rewards\n",
    "\n",
    "\n",
    "gamma = 0.9  # discount factor\n",
    "# truncation of the infinite sum\n",
    "T = int(np.log(1/(0.001*(1-gamma)))/np.log(1/gamma))\n",
    "States1, Rewards1 = SimulateTrajectory(T, RandomPolicy)\n",
    "\n",
    "# Plot cumulative discounted reward (on a single run):\n",
    "plt.figure()\n",
    "plt.plot(\n",
    "    np.cumsum(Rewards1*np.array([gamma**t for t in range(len(Rewards1))])), label=\"Policy\")\n",
    "\n",
    "plt.xlabel('steps')\n",
    "plt.ylabel('cumulated discounted reward')\n",
    "plt.legend()\n",
    "plt.grid()\n",
    "plt.show()"
   ]
  },
  {
   "cell_type": "markdown",
   "metadata": {},
   "source": [
    "**Q.6 Implement the optimal policy and display a corresponding trajectory from the initial state.**"
   ]
  },
  {
   "cell_type": "code",
   "execution_count": 39,
   "metadata": {},
   "outputs": [
    {
     "name": "stdout",
     "output_type": "stream",
     "text": [
      "time: 322 µs (started: 2023-11-16 11:09:15 +01:00)\n"
     ]
    }
   ],
   "source": [
    "def OptimalPolicy(state, action_space):\n",
    "    if state == 36:\n",
    "        return 0\n",
    "    elif state == 35:\n",
    "        return 2\n",
    "    else:\n",
    "        return 1"
   ]
  },
  {
   "cell_type": "code",
   "execution_count": 40,
   "metadata": {},
   "outputs": [
    {
     "data": {
      "image/png": "[encoded data removed]",
      "text/plain": [
       "<Figure size 640x480 with 1 Axes>"
      ]
     },
     "metadata": {},
     "output_type": "display_data"
    },
    {
     "name": "stdout",
     "output_type": "stream",
     "text": [
      "time: 138 ms (started: 2023-11-16 11:09:20 +01:00)\n"
     ]
    }
   ],
   "source": [
    "states, rewards = SimulateTrajectory(T, OptimalPolicy)\n",
    "\n",
    "plt.figure()\n",
    "plt.plot(\n",
    "    np.cumsum(rewards*np.array([gamma**t for t in range(len(rewards))])), label=\"Policy\")\n",
    "\n",
    "plt.xlabel('steps')\n",
    "plt.ylabel('cumulated discounted reward')\n",
    "plt.legend()\n",
    "plt.grid()\n",
    "plt.show()"
   ]
  },
  {
   "cell_type": "markdown",
   "metadata": {},
   "source": [
    "# Dynamic Programming"
   ]
  },
  {
   "cell_type": "markdown",
   "metadata": {},
   "source": [
    "In order to use our dynamic programming algorithms, we need to know the parameters of the MDP. \n",
    "Here we know the reward and transition model. "
   ]
  },
  {
   "cell_type": "markdown",
   "metadata": {},
   "source": [
    "**Q.7 Fill the reward array ```r[s,a]```, the transition array ```p[s,a,s']``` and the terminal array ```T[s]``` that return a boolean if the state is terminal.**\n"
   ]
  },
  {
   "cell_type": "markdown",
   "metadata": {},
   "source": [
    "> Hint : You can look at https://github.com/openai/gym/blob/master/gym/envs/toy_text/cliffwalking.py"
   ]
  },
  {
   "cell_type": "code",
   "execution_count": 53,
   "metadata": {},
   "outputs": [
    {
     "name": "stdout",
     "output_type": "stream",
     "text": [
      "time: 1.15 ms (started: 2023-11-16 11:29:00 +01:00)\n"
     ]
    }
   ],
   "source": [
    "# Can be useful\n",
    "# Convert a state number into its coordinates on the grid.\n",
    "def number_to_grid(x):\n",
    "    return (np.unravel_index(np.array(x), shape=(4, 12)))\n",
    "\n",
    "\n",
    "def grid_to_number(x):\n",
    "    return (np.ravel_multi_index(x, (4, 12)))\n",
    "\n",
    "\n",
    "# MDP parameters\n",
    "nb_states = 48\n",
    "nb_actions = 4\n",
    "P = np.zeros((nb_states, nb_actions, nb_states))  # P[s,a,s'] = p(s' | s,a)\n",
    "# r[s,a] =  reward received in state s when playing action a\n",
    "r = -np.ones((nb_states, nb_actions))\n",
    "T = np.zeros((nb_states,))  # T[s] = True if state is terminal, False otherwise"
   ]
  },
  {
   "cell_type": "code",
   "execution_count": 54,
   "metadata": {},
   "outputs": [
    {
     "name": "stdout",
     "output_type": "stream",
     "text": [
      "time: 2.5 ms (started: 2023-11-16 11:29:00 +01:00)\n"
     ]
    }
   ],
   "source": [
    "# Fill the transition matrix\n",
    "for s in range(nb_states):\n",
    "    x, y = number_to_grid(s)\n",
    "    for a in range(nb_actions):\n",
    "        if a == 0:\n",
    "            x = max(0, x-1)\n",
    "        elif a == 1:\n",
    "            y = min(11, y+1)\n",
    "        elif a == 2:\n",
    "            x = min(3, x+1)\n",
    "        else:\n",
    "            y = max(0, y-1)\n",
    "\n",
    "        s_prime = grid_to_number((x, y))\n",
    "        P[s, a, s_prime] = 1"
   ]
  },
  {
   "cell_type": "code",
   "execution_count": 55,
   "metadata": {},
   "outputs": [
    {
     "name": "stdout",
     "output_type": "stream",
     "text": [
      "time: 334 µs (started: 2023-11-16 11:29:00 +01:00)\n"
     ]
    }
   ],
   "source": [
    "# Fill the reward matrix\n",
    "r[37:-1, :] = -100\n",
    "r[-1, :] = 0"
   ]
  },
  {
   "cell_type": "code",
   "execution_count": 56,
   "metadata": {},
   "outputs": [
    {
     "data": {
      "text/plain": [
       "<matplotlib.image.AxesImage at 0x7fe1a49da1d0>"
      ]
     },
     "execution_count": 56,
     "metadata": {},
     "output_type": "execute_result"
    },
    {
     "data": {
      "image/png": "[encoded data removed]",
      "text/plain": [
       "<Figure size 640x480 with 1 Axes>"
      ]
     },
     "metadata": {},
     "output_type": "display_data"
    },
    {
     "name": "stdout",
     "output_type": "stream",
     "text": [
      "time: 117 ms (started: 2023-11-16 11:29:00 +01:00)\n"
     ]
    }
   ],
   "source": [
    "plt.imshow(r[:, 0].reshape(4, 12))"
   ]
  },
  {
   "cell_type": "code",
   "execution_count": 57,
   "metadata": {},
   "outputs": [
    {
     "name": "stdout",
     "output_type": "stream",
     "text": [
      "time: 296 µs (started: 2023-11-16 11:29:01 +01:00)\n"
     ]
    }
   ],
   "source": [
    "# Fill the T vector \n",
    "T[-1] = 1"
   ]
  },
  {
   "cell_type": "code",
   "execution_count": 58,
   "metadata": {},
   "outputs": [
    {
     "name": "stdout",
     "output_type": "stream",
     "text": [
      "time: 443 µs (started: 2023-11-16 11:29:01 +01:00)\n"
     ]
    }
   ],
   "source": [
    "# sampling method for next state given current state and action\n",
    "def sample_next_state(P, s, a):\n",
    "    return np.random.choice(range(nb_states), 1, p=P[s, a])[0]"
   ]
  },
  {
   "cell_type": "markdown",
   "metadata": {},
   "source": [
    "### Policy Iteration"
   ]
  },
  {
   "cell_type": "markdown",
   "metadata": {},
   "source": [
    "In this section, we will consider deterministic policies. A deterministic policy  is represented as a vector pi[s] with s a state. "
   ]
  },
  {
   "cell_type": "code",
   "execution_count": 59,
   "metadata": {},
   "outputs": [
    {
     "name": "stdout",
     "output_type": "stream",
     "text": [
      "time: 339 µs (started: 2023-11-16 11:29:02 +01:00)\n"
     ]
    }
   ],
   "source": [
    "# An example of random deterministic policy\n",
    "example_pi = np.random.choice([0, 1, 2, 3], nb_states)"
   ]
  },
  {
   "cell_type": "code",
   "execution_count": 60,
   "metadata": {},
   "outputs": [
    {
     "name": "stdout",
     "output_type": "stream",
     "text": [
      "The action from state 13 is 3\n",
      "time: 423 µs (started: 2023-11-16 11:29:03 +01:00)\n"
     ]
    }
   ],
   "source": [
    "state = 13\n",
    "print(f\"The action from state {state} is {example_pi[state]}\")"
   ]
  },
  {
   "cell_type": "markdown",
   "metadata": {},
   "source": [
    "**Q.8 Using the Bellman equations, build a function for evaluating the state-value function $V_\\pi$ of a policy $\\pi$ iteratively. We consider convergence with $\\epsilon = 0.01$ or if we performed a maximum of 10000 iterations.**\n",
    "> Hint : you can look at Sutton & Barto , Reinforcement Learning, An introduction, chapter 4"
   ]
  },
  {
   "cell_type": "code",
   "execution_count": 108,
   "metadata": {},
   "outputs": [
    {
     "name": "stdout",
     "output_type": "stream",
     "text": [
      "time: 1.14 ms (started: 2023-11-16 11:53:21 +01:00)\n"
     ]
    }
   ],
   "source": [
    "epsilon = 0.01\n",
    "max_iter = 10000\n",
    "def policy_evaluation(policy, epsilon, gamma, max_iter):\n",
    "    V = np.zeros(nb_states) # intialize Values to 0's\n",
    "    \n",
    "    delta = 0\n",
    "    for _ in range(max_iter):\n",
    "        for s in range(nb_states):\n",
    "            v = V[s]\n",
    "            if T[s]: # terminal state\n",
    "                continue\n",
    "            if isinstance(policy, np.ndarray):\n",
    "                a = policy[s]\n",
    "            elif callable(policy):\n",
    "                a = policy(s, env.action_space)\n",
    "            else:\n",
    "                raise ValueError('Wrong type of policy passed')\n",
    "            transition_probs = P[s, a, :]\n",
    "            reward = r[s, a]\n",
    "\n",
    "            V[s] = reward + gamma*np.dot(transition_probs,V)\n",
    "            delta = max(delta, abs(v-V[s]))\n",
    "\n",
    "        if delta < epsilon:\n",
    "            break\n",
    "            \n",
    "\n",
    "    return V"
   ]
  },
  {
   "cell_type": "code",
   "execution_count": 109,
   "metadata": {},
   "outputs": [
    {
     "name": "stdout",
     "output_type": "stream",
     "text": [
      "time: 2.44 s (started: 2023-11-16 11:53:22 +01:00)\n"
     ]
    }
   ],
   "source": [
    "np.random.seed(102)\n",
    "random_value_function = policy_evaluation(RandomPolicy, epsilon, gamma, max_iter)"
   ]
  },
  {
   "cell_type": "code",
   "execution_count": 110,
   "metadata": {},
   "outputs": [
    {
     "data": {
      "text/plain": [
       "Text(0.5, 1.0, 'Value function of the random policy')"
      ]
     },
     "execution_count": 110,
     "metadata": {},
     "output_type": "execute_result"
    },
    {
     "data": {
      "image/png": "[encoded data removed]",
      "text/plain": [
       "<Figure size 1000x500 with 1 Axes>"
      ]
     },
     "metadata": {},
     "output_type": "display_data"
    },
    {
     "name": "stdout",
     "output_type": "stream",
     "text": [
      "time: 220 ms (started: 2023-11-16 11:53:25 +01:00)\n"
     ]
    }
   ],
   "source": [
    "fig, ax = plt.subplots(1,1, figsize=(10,5))\n",
    "plt.imshow(random_value_function.reshape(4, 12))\n",
    "ax = plt.gca()\n",
    "for (j,i),label in np.ndenumerate(random_value_function.reshape(4,12)):\n",
    "    ax.text(i,j,f'{label:.2f}',ha='center',va='center')\n",
    "\n",
    "plt.title('Value function of the random policy')"
   ]
  },
  {
   "cell_type": "code",
   "execution_count": 111,
   "metadata": {},
   "outputs": [
    {
     "name": "stdout",
     "output_type": "stream",
     "text": [
      "time: 964 ms (started: 2023-11-16 11:53:27 +01:00)\n"
     ]
    }
   ],
   "source": [
    "np.random.seed(102)\n",
    "right_value_function = policy_evaluation(GoRightPolicy, epsilon, gamma, max_iter)"
   ]
  },
  {
   "cell_type": "code",
   "execution_count": 112,
   "metadata": {},
   "outputs": [
    {
     "data": {
      "text/plain": [
       "Text(0.5, 1.0, 'Value function of the \"go right\" policy')"
      ]
     },
     "execution_count": 112,
     "metadata": {},
     "output_type": "execute_result"
    },
    {
     "data": {
      "image/png": "[encoded data removed]",
      "text/plain": [
       "<Figure size 1000x500 with 1 Axes>"
      ]
     },
     "metadata": {},
     "output_type": "display_data"
    },
    {
     "name": "stdout",
     "output_type": "stream",
     "text": [
      "time: 214 ms (started: 2023-11-16 11:53:28 +01:00)\n"
     ]
    }
   ],
   "source": [
    "fig, ax = plt.subplots(1,1, figsize=(10,5))\n",
    "plt.imshow(right_value_function.reshape(4, 12))\n",
    "ax = plt.gca()\n",
    "for (j,i),label in np.ndenumerate(random_value_function.reshape(4,12)):\n",
    "    ax.text(i,j,f'{label:.2f}',ha='center',va='center')\n",
    "\n",
    "plt.title('Value function of the \"go right\" policy')"
   ]
  },
  {
   "cell_type": "code",
   "execution_count": 121,
   "metadata": {},
   "outputs": [
    {
     "name": "stdout",
     "output_type": "stream",
     "text": [
      "time: 849 ms (started: 2023-11-16 11:55:58 +01:00)\n"
     ]
    }
   ],
   "source": [
    "np.random.seed(102)\n",
    "down_value_function = policy_evaluation(np.array([2]*48), epsilon, gamma, max_iter)"
   ]
  },
  {
   "cell_type": "code",
   "execution_count": 122,
   "metadata": {},
   "outputs": [
    {
     "data": {
      "text/plain": [
       "Text(0.5, 1.0, 'Value function of the \"go down\" policy')"
      ]
     },
     "execution_count": 122,
     "metadata": {},
     "output_type": "execute_result"
    },
    {
     "data": {
      "image/png": "[encoded data removed]",
      "text/plain": [
       "<Figure size 1000x500 with 1 Axes>"
      ]
     },
     "metadata": {},
     "output_type": "display_data"
    },
    {
     "name": "stdout",
     "output_type": "stream",
     "text": [
      "time: 279 ms (started: 2023-11-16 11:56:04 +01:00)\n"
     ]
    }
   ],
   "source": [
    "fig, ax = plt.subplots(1,1, figsize=(10,5))\n",
    "plt.imshow(down_value_function.reshape(4, 12))\n",
    "ax = plt.gca()\n",
    "for (j,i),label in np.ndenumerate(random_value_function.reshape(4,12)):\n",
    "    ax.text(i,j,f'{label:.2f}',ha='center',va='center')\n",
    "\n",
    "plt.title('Value function of the \"go down\" policy')"
   ]
  },
  {
   "cell_type": "markdown",
   "metadata": {},
   "source": [
    "**Q.9 Build a policy improvement function**"
   ]
  },
  {
   "cell_type": "code",
   "execution_count": 118,
   "metadata": {},
   "outputs": [
    {
     "name": "stdout",
     "output_type": "stream",
     "text": [
      "time: 1.05 ms (started: 2023-11-16 11:54:17 +01:00)\n"
     ]
    }
   ],
   "source": [
    "def policy_improve(V, policy):\n",
    "    policy_stable = True\n",
    "    policy_values = np.zeros(nb_states, dtype=int)\n",
    "\n",
    "    for s in range(nb_states):\n",
    "        old_action = policy[s]\n",
    "        imm_rewards = r[s, :]  # (4, ) vector of rewards when doing x action\n",
    "        next_values = np.dot(P[s, :,], V)  # (4, 48)x(48,1)\n",
    "        value_based_action = int(np.argmax(imm_rewards+gamma*next_values))\n",
    "        if old_action != value_based_action:\n",
    "            policy_stable = False\n",
    "\n",
    "        policy_values[s] = value_based_action\n",
    "\n",
    "    return policy_values, policy_stable"
   ]
  },
  {
   "cell_type": "markdown",
   "metadata": {},
   "source": [
    "**Q.10 Using the two preceding functions, build the Policy Iteration algorithm**"
   ]
  },
  {
   "cell_type": "code",
   "execution_count": 119,
   "metadata": {},
   "outputs": [
    {
     "name": "stdout",
     "output_type": "stream",
     "text": [
      "time: 890 µs (started: 2023-11-16 11:54:17 +01:00)\n"
     ]
    }
   ],
   "source": [
    "def policy_iteration(epsilon, gamma, max_iter):\n",
    "    policy = np.random.choice([0,1,2,3], size=(48,))\n",
    "    stable = False\n",
    "    while not stable:\n",
    "        V = policy_evaluation(policy, epsilon, gamma, max_iter)\n",
    "        policy, stable = policy_improve(V, policy)\n",
    "\n",
    "    return policy"
   ]
  },
  {
   "cell_type": "code",
   "execution_count": 120,
   "metadata": {},
   "outputs": [
    {
     "name": "stdout",
     "output_type": "stream",
     "text": [
      "[[0 0 0 0 0 0 0 0 0 0 0 0]\n",
      " [0 0 0 0 0 0 0 0 0 0 0 0]\n",
      " [0 0 0 0 0 0 0 0 0 0 0 0]\n",
      " [0 0 0 0 0 0 0 0 0 0 2 2]]\n",
      "time: 1.68 s (started: 2023-11-16 11:54:17 +01:00)\n"
     ]
    }
   ],
   "source": [
    "epsilon = 0.01\n",
    "gamma = 0.9\n",
    "max_iter = 10000\n",
    "policy = policy_iteration(epsilon, gamma, max_iter)\n",
    "print(policy.reshape(4,12))"
   ]
  },
  {
   "cell_type": "code",
   "execution_count": null,
   "metadata": {},
   "outputs": [],
   "source": []
  },
  {
   "cell_type": "markdown",
   "metadata": {},
   "source": [
    "**Q.11 Test your obtained policy and compare it against random policies. Is it optimal ?** "
   ]
  },
  {
   "cell_type": "markdown",
   "metadata": {},
   "source": [
    "### Value Iteration"
   ]
  },
  {
   "cell_type": "markdown",
   "metadata": {},
   "source": [
    "**Q.12 Similarly to the Policy Iteration algorithm, build the Value Iteration Algorithm and test it.**"
   ]
  },
  {
   "cell_type": "markdown",
   "metadata": {},
   "source": [
    "# Our first sampling algorithm"
   ]
  },
  {
   "cell_type": "markdown",
   "metadata": {},
   "source": [
    "Now we don't have access to the Reward and Transitions table anymore ! We will have to explore to build our knowledge of an estimation of the action-value Q(s,a) along the way."
   ]
  },
  {
   "cell_type": "markdown",
   "metadata": {},
   "source": [
    "**Q.13 Read the pseudo-code for the Monte Carlo Exploring Starts algorithms. Describe briefly how the algorithm allows in theory to get a good policy.**\n",
    "![Alt text](image.png)"
   ]
  },
  {
   "cell_type": "markdown",
   "metadata": {},
   "source": [
    "**Q.14 Why can this algorithm be not efficient ?**"
   ]
  },
  {
   "cell_type": "markdown",
   "metadata": {},
   "source": [
    "**Q.15  Implement a Monte Carlo Exploring Starts algorithm.**\n",
    "\n",
    "We will store action-value information in a table q[s,a] that will be updated at each episode. \n",
    "\n",
    "You will need :\n",
    "- To store ```pi```, ```q[s,a]``` as tables and ```Returns(s,a)``` as a list of cumulative discounted rewards\n",
    "- To reset the environment for each episode. \n",
    "- To use the ```step()``` method to act on the environment \n",
    "- To update your knowledge of q on the trajectory of the episode.\n",
    "- To update the current policy given the update of q.\n"
   ]
  },
  {
   "cell_type": "markdown",
   "metadata": {},
   "source": [
    "**Q.16 Visualize the obtained policy after training over some iterations and conclude**"
   ]
  }
 ],
 "metadata": {
  "kernelspec": {
   "display_name": "Python 3 (ipykernel)",
   "language": "python",
   "name": "python3"
  },
  "language_info": {
   "codemirror_mode": {
    "name": "ipython",
    "version": 3
   },
   "file_extension": ".py",
   "mimetype": "text/x-python",
   "name": "python",
   "nbconvert_exporter": "python",
   "pygments_lexer": "ipython3",
   "version": "3.10.13"
  },
  "vscode": {
   "interpreter": {
    "hash": "6d3bda9ce93bcf6253578f72b020ff104c4a49c94ced054907684331a902bb6b"
   }
  }
 },
 "nbformat": 4,
 "nbformat_minor": 2
}
